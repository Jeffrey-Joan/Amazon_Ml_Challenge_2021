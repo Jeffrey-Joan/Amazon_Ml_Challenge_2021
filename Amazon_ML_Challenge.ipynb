{
  "nbformat": 4,
  "nbformat_minor": 5,
  "metadata": {
    "kernelspec": {
      "display_name": "Python 3",
      "language": "python",
      "name": "python3"
    },
    "language_info": {
      "codemirror_mode": {
        "name": "ipython",
        "version": 3
      },
      "file_extension": ".py",
      "mimetype": "text/x-python",
      "name": "python",
      "nbconvert_exporter": "python",
      "pygments_lexer": "ipython3",
      "version": "3.8.10"
    },
    "colab": {
      "name": "Amazon ML Challenge.ipynb",
      "provenance": []
    },
    "accelerator": "GPU"
  },
  "cells": [
    {
      "cell_type": "markdown",
      "metadata": {
        "id": "bFRZlIJR5BCZ"
      },
      "source": [
        "# Text Classification (Amazon Ml challenge 2021)"
      ],
      "id": "bFRZlIJR5BCZ"
    },
    {
      "cell_type": "markdown",
      "metadata": {
        "id": "S8BkhH5q5WZT"
      },
      "source": [
        "Importing necessary libraries"
      ],
      "id": "S8BkhH5q5WZT"
    },
    {
      "cell_type": "code",
      "metadata": {
        "id": "3868a88a"
      },
      "source": [
        "import statistics as sta\n",
        "import seaborn as sns\n",
        "import matplotlib.pyplot as plt \n",
        "import pandas as pd\n",
        "import numpy as np"
      ],
      "id": "3868a88a",
      "execution_count": 1,
      "outputs": []
    },
    {
      "cell_type": "code",
      "metadata": {
        "id": "3d5fc50b"
      },
      "source": [
        "from sklearn.feature_extraction.text import TfidfVectorizer\n",
        "from sklearn import model_selection, naive_bayes, svm\n",
        "from sklearn.metrics import accuracy_score"
      ],
      "id": "3d5fc50b",
      "execution_count": 2,
      "outputs": []
    },
    {
      "cell_type": "code",
      "metadata": {
        "id": "d9a11a63"
      },
      "source": [
        "import csv"
      ],
      "id": "d9a11a63",
      "execution_count": 3,
      "outputs": []
    },
    {
      "cell_type": "markdown",
      "metadata": {
        "id": "53gwqr5S5eq3"
      },
      "source": [
        "Unzipping and getting the data"
      ],
      "id": "53gwqr5S5eq3"
    },
    {
      "cell_type": "code",
      "metadata": {
        "colab": {
          "base_uri": "https://localhost:8080/"
        },
        "id": "Ks-DSrAUUc37",
        "outputId": "52a79785-c842-48b9-9c59-c28871caf468"
      },
      "source": [
        "!wget https://s3-ap-southeast-1.amazonaws.com/he-public-data/dataset52a7b21.zip"
      ],
      "id": "Ks-DSrAUUc37",
      "execution_count": 4,
      "outputs": [
        {
          "output_type": "stream",
          "text": [
            "--2021-08-08 13:29:23--  https://s3-ap-southeast-1.amazonaws.com/he-public-data/dataset52a7b21.zip\n",
            "Resolving s3-ap-southeast-1.amazonaws.com (s3-ap-southeast-1.amazonaws.com)... 52.219.40.5\n",
            "Connecting to s3-ap-southeast-1.amazonaws.com (s3-ap-southeast-1.amazonaws.com)|52.219.40.5|:443... connected.\n",
            "HTTP request sent, awaiting response... 200 OK\n",
            "Length: 1061576029 (1012M) [binary/octet-stream]\n",
            "Saving to: ‘dataset52a7b21.zip’\n",
            "\n",
            "dataset52a7b21.zip  100%[===================>]   1012M  17.3MB/s    in 60s     \n",
            "\n",
            "2021-08-08 13:30:24 (16.8 MB/s) - ‘dataset52a7b21.zip’ saved [1061576029/1061576029]\n",
            "\n"
          ],
          "name": "stdout"
        }
      ]
    },
    {
      "cell_type": "code",
      "metadata": {
        "colab": {
          "base_uri": "https://localhost:8080/"
        },
        "id": "Ny6a2DzIVnUx",
        "outputId": "6b037c42-330b-430e-f517-64142d0c2c16"
      },
      "source": [
        "!unzip dataset52a7b21.zip"
      ],
      "id": "Ny6a2DzIVnUx",
      "execution_count": 5,
      "outputs": [
        {
          "output_type": "stream",
          "text": [
            "Archive:  dataset52a7b21.zip\n",
            "   creating: dataset/\n",
            "  inflating: dataset/train.csv       \n",
            "  inflating: dataset/sample_submission.csv  \n",
            "  inflating: dataset/test.csv        \n",
            "  inflating: dataset/.~lock.train.csv#  \n"
          ],
          "name": "stdout"
        }
      ]
    },
    {
      "cell_type": "code",
      "metadata": {
        "id": "18330efe"
      },
      "source": [
        "test = pd.read_csv('test.csv' ,escapechar=\"\\\\\", quoting=csv.QUOTE_NONE)"
      ],
      "id": "18330efe",
      "execution_count": 7,
      "outputs": []
    },
    {
      "cell_type": "code",
      "metadata": {
        "id": "01db2247"
      },
      "source": [
        "train = pd.read_csv('train.csv' ,escapechar=\"\\\\\", quoting=csv.QUOTE_NONE)"
      ],
      "id": "01db2247",
      "execution_count": 8,
      "outputs": []
    },
    {
      "cell_type": "markdown",
      "metadata": {
        "id": "ozZQtRl25vyj"
      },
      "source": [
        "Understanding the data\n",
        "  "
      ],
      "id": "ozZQtRl25vyj"
    },
    {
      "cell_type": "code",
      "metadata": {
        "colab": {
          "base_uri": "https://localhost:8080/",
          "height": 306
        },
        "id": "db830e71",
        "outputId": "bc491036-f2b7-45e8-81cc-62faa85e8bb9"
      },
      "source": [
        "test.head()"
      ],
      "id": "db830e71",
      "execution_count": 9,
      "outputs": [
        {
          "output_type": "execute_result",
          "data": {
            "text/html": [
              "<div>\n",
              "<style scoped>\n",
              "    .dataframe tbody tr th:only-of-type {\n",
              "        vertical-align: middle;\n",
              "    }\n",
              "\n",
              "    .dataframe tbody tr th {\n",
              "        vertical-align: top;\n",
              "    }\n",
              "\n",
              "    .dataframe thead th {\n",
              "        text-align: right;\n",
              "    }\n",
              "</style>\n",
              "<table border=\"1\" class=\"dataframe\">\n",
              "  <thead>\n",
              "    <tr style=\"text-align: right;\">\n",
              "      <th></th>\n",
              "      <th>PRODUCT_ID</th>\n",
              "      <th>TITLE</th>\n",
              "      <th>DESCRIPTION</th>\n",
              "      <th>BULLET_POINTS</th>\n",
              "      <th>BRAND</th>\n",
              "    </tr>\n",
              "  </thead>\n",
              "  <tbody>\n",
              "    <tr>\n",
              "      <th>0</th>\n",
              "      <td>1</td>\n",
              "      <td>Command 3M Small Kitchen Hooks, White, Decorat...</td>\n",
              "      <td>Sale Unit: PACK</td>\n",
              "      <td>[INCLUDES - 9 hooks and 12 small indoor strips...</td>\n",
              "      <td>Command</td>\n",
              "    </tr>\n",
              "    <tr>\n",
              "      <th>1</th>\n",
              "      <td>2</td>\n",
              "      <td>O'Neal Jump Hardware JAG Unisex-Adult Glove (B...</td>\n",
              "      <td>Synthetic leather palm with double-layer thumb...</td>\n",
              "      <td>[Silicone printing for a better grip. Long las...</td>\n",
              "      <td>O'Neal</td>\n",
              "    </tr>\n",
              "    <tr>\n",
              "      <th>2</th>\n",
              "      <td>3</td>\n",
              "      <td>NFL Detroit Lions Portable Party Fridge, 15.8 ...</td>\n",
              "      <td>Boelter Brands lets you celebrate your favorit...</td>\n",
              "      <td>[Runs on 12 Volt DC Power or 110 Volt AC Power...</td>\n",
              "      <td>Boelter Brands</td>\n",
              "    </tr>\n",
              "    <tr>\n",
              "      <th>3</th>\n",
              "      <td>4</td>\n",
              "      <td>Panasonic Single Line KX-TS880MX Corded Phone ...</td>\n",
              "      <td>Features: 50 Station Phonebook Corded Phone Al...</td>\n",
              "      <td>Panasonic Landline Phones doesn't come with a ...</td>\n",
              "      <td>Panasonic</td>\n",
              "    </tr>\n",
              "    <tr>\n",
              "      <th>4</th>\n",
              "      <td>5</td>\n",
              "      <td>Zero Baby Girl's 100% Cotton Innerwear Bloomer...</td>\n",
              "      <td>Zero Baby Girl Panties Set. 100% Cotton, Breat...</td>\n",
              "      <td>[Zero Baby Girl Panties, Pack of 6, 100% Cotto...</td>\n",
              "      <td>Zero</td>\n",
              "    </tr>\n",
              "  </tbody>\n",
              "</table>\n",
              "</div>"
            ],
            "text/plain": [
              "   PRODUCT_ID  ...           BRAND\n",
              "0           1  ...         Command\n",
              "1           2  ...          O'Neal\n",
              "2           3  ...  Boelter Brands\n",
              "3           4  ...       Panasonic\n",
              "4           5  ...            Zero\n",
              "\n",
              "[5 rows x 5 columns]"
            ]
          },
          "metadata": {
            "tags": []
          },
          "execution_count": 9
        }
      ]
    },
    {
      "cell_type": "code",
      "metadata": {
        "colab": {
          "base_uri": "https://localhost:8080/",
          "height": 357
        },
        "id": "a221b3b8",
        "outputId": "a78d24a4-575e-4844-a176-0e21402e2574"
      },
      "source": [
        "train.head()"
      ],
      "id": "a221b3b8",
      "execution_count": 10,
      "outputs": [
        {
          "output_type": "execute_result",
          "data": {
            "text/html": [
              "<div>\n",
              "<style scoped>\n",
              "    .dataframe tbody tr th:only-of-type {\n",
              "        vertical-align: middle;\n",
              "    }\n",
              "\n",
              "    .dataframe tbody tr th {\n",
              "        vertical-align: top;\n",
              "    }\n",
              "\n",
              "    .dataframe thead th {\n",
              "        text-align: right;\n",
              "    }\n",
              "</style>\n",
              "<table border=\"1\" class=\"dataframe\">\n",
              "  <thead>\n",
              "    <tr style=\"text-align: right;\">\n",
              "      <th></th>\n",
              "      <th>TITLE</th>\n",
              "      <th>DESCRIPTION</th>\n",
              "      <th>BULLET_POINTS</th>\n",
              "      <th>BRAND</th>\n",
              "      <th>BROWSE_NODE_ID</th>\n",
              "    </tr>\n",
              "  </thead>\n",
              "  <tbody>\n",
              "    <tr>\n",
              "      <th>0</th>\n",
              "      <td>Pete The Cat Bedtime Blues Doll, 14.5 Inch</td>\n",
              "      <td>Pete the Cat is the coolest, most popular cat ...</td>\n",
              "      <td>[Pete the Cat Bedtime Blues plush doll,Based o...</td>\n",
              "      <td>MerryMakers</td>\n",
              "      <td>0</td>\n",
              "    </tr>\n",
              "    <tr>\n",
              "      <th>1</th>\n",
              "      <td>The New Yorker NYHM014 Refrigerator Magnet, 2 ...</td>\n",
              "      <td>The New Yorker Handsome Cello Wrapped Hard Mag...</td>\n",
              "      <td>[Cat In A Tea Cup by New Yorker cover artist G...</td>\n",
              "      <td>The New Yorker</td>\n",
              "      <td>1</td>\n",
              "    </tr>\n",
              "    <tr>\n",
              "      <th>2</th>\n",
              "      <td>The Ultimate Self-Sufficiency Handbook: A Comp...</td>\n",
              "      <td>NaN</td>\n",
              "      <td>Skyhorse Publishing</td>\n",
              "      <td>imusti</td>\n",
              "      <td>2</td>\n",
              "    </tr>\n",
              "    <tr>\n",
              "      <th>3</th>\n",
              "      <td>Amway Nutrilite Kids Chewable Iron Tablets (100)</td>\n",
              "      <td>NaN</td>\n",
              "      <td>[Nutrilite Kids,Chewable Iron Tablets,Quantity...</td>\n",
              "      <td>Amway</td>\n",
              "      <td>3</td>\n",
              "    </tr>\n",
              "    <tr>\n",
              "      <th>4</th>\n",
              "      <td>Teacher Planner Company A4 6 Lesson Academic T...</td>\n",
              "      <td>NaN</td>\n",
              "      <td>NaN</td>\n",
              "      <td>NaN</td>\n",
              "      <td>4</td>\n",
              "    </tr>\n",
              "  </tbody>\n",
              "</table>\n",
              "</div>"
            ],
            "text/plain": [
              "                                               TITLE  ... BROWSE_NODE_ID\n",
              "0         Pete The Cat Bedtime Blues Doll, 14.5 Inch  ...              0\n",
              "1  The New Yorker NYHM014 Refrigerator Magnet, 2 ...  ...              1\n",
              "2  The Ultimate Self-Sufficiency Handbook: A Comp...  ...              2\n",
              "3   Amway Nutrilite Kids Chewable Iron Tablets (100)  ...              3\n",
              "4  Teacher Planner Company A4 6 Lesson Academic T...  ...              4\n",
              "\n",
              "[5 rows x 5 columns]"
            ]
          },
          "metadata": {
            "tags": []
          },
          "execution_count": 10
        }
      ]
    },
    {
      "cell_type": "code",
      "metadata": {
        "colab": {
          "base_uri": "https://localhost:8080/"
        },
        "id": "c909bbc8",
        "outputId": "573c286d-6f80-45f0-cf1b-037ebe3e3eda"
      },
      "source": [
        "train.shape"
      ],
      "id": "c909bbc8",
      "execution_count": 11,
      "outputs": [
        {
          "output_type": "execute_result",
          "data": {
            "text/plain": [
              "(2903024, 5)"
            ]
          },
          "metadata": {
            "tags": []
          },
          "execution_count": 11
        }
      ]
    },
    {
      "cell_type": "code",
      "metadata": {
        "id": "09db4b83"
      },
      "source": [
        "train.dropna(inplace = True)"
      ],
      "id": "09db4b83",
      "execution_count": 12,
      "outputs": []
    },
    {
      "cell_type": "code",
      "metadata": {
        "colab": {
          "base_uri": "https://localhost:8080/"
        },
        "id": "cbe5f336",
        "outputId": "a1f40f71-5ed9-45ab-db9d-ac10d3836fcd"
      },
      "source": [
        "train.shape"
      ],
      "id": "cbe5f336",
      "execution_count": 13,
      "outputs": [
        {
          "output_type": "execute_result",
          "data": {
            "text/plain": [
              "(2110586, 5)"
            ]
          },
          "metadata": {
            "tags": []
          },
          "execution_count": 13
        }
      ]
    },
    {
      "cell_type": "code",
      "metadata": {
        "id": "0f74fe29"
      },
      "source": [
        "test.dropna(inplace = True)"
      ],
      "id": "0f74fe29",
      "execution_count": 14,
      "outputs": []
    },
    {
      "cell_type": "code",
      "metadata": {
        "colab": {
          "base_uri": "https://localhost:8080/"
        },
        "id": "d41fa20b",
        "outputId": "ef4e36be-6d27-4f2b-8de7-a1c8acfa3fc3"
      },
      "source": [
        "test.shape"
      ],
      "id": "d41fa20b",
      "execution_count": 15,
      "outputs": [
        {
          "output_type": "execute_result",
          "data": {
            "text/plain": [
              "(97793, 5)"
            ]
          },
          "metadata": {
            "tags": []
          },
          "execution_count": 15
        }
      ]
    },
    {
      "cell_type": "code",
      "metadata": {
        "id": "72c4ca38"
      },
      "source": [
        "np.random.seed(75)"
      ],
      "id": "72c4ca38",
      "execution_count": 16,
      "outputs": []
    },
    {
      "cell_type": "markdown",
      "metadata": {
        "id": "qiNMLvcK58Y3"
      },
      "source": [
        "Getting a small amount of data to make training easier"
      ],
      "id": "qiNMLvcK58Y3"
    },
    {
      "cell_type": "code",
      "metadata": {
        "id": "848a8221"
      },
      "source": [
        "small_train = train.head(30000)"
      ],
      "id": "848a8221",
      "execution_count": 17,
      "outputs": []
    },
    {
      "cell_type": "code",
      "metadata": {
        "id": "640b61fa"
      },
      "source": [
        "df = small_train[['BROWSE_NODE_ID','TITLE']].copy()"
      ],
      "id": "640b61fa",
      "execution_count": 18,
      "outputs": []
    },
    {
      "cell_type": "code",
      "metadata": {
        "colab": {
          "base_uri": "https://localhost:8080/",
          "height": 204
        },
        "id": "3c08e4fe",
        "outputId": "e4d7d822-da26-4f48-90e8-c532ae080ee3"
      },
      "source": [
        "df.head()"
      ],
      "id": "3c08e4fe",
      "execution_count": 19,
      "outputs": [
        {
          "output_type": "execute_result",
          "data": {
            "text/html": [
              "<div>\n",
              "<style scoped>\n",
              "    .dataframe tbody tr th:only-of-type {\n",
              "        vertical-align: middle;\n",
              "    }\n",
              "\n",
              "    .dataframe tbody tr th {\n",
              "        vertical-align: top;\n",
              "    }\n",
              "\n",
              "    .dataframe thead th {\n",
              "        text-align: right;\n",
              "    }\n",
              "</style>\n",
              "<table border=\"1\" class=\"dataframe\">\n",
              "  <thead>\n",
              "    <tr style=\"text-align: right;\">\n",
              "      <th></th>\n",
              "      <th>BROWSE_NODE_ID</th>\n",
              "      <th>TITLE</th>\n",
              "    </tr>\n",
              "  </thead>\n",
              "  <tbody>\n",
              "    <tr>\n",
              "      <th>0</th>\n",
              "      <td>0</td>\n",
              "      <td>Pete The Cat Bedtime Blues Doll, 14.5 Inch</td>\n",
              "    </tr>\n",
              "    <tr>\n",
              "      <th>1</th>\n",
              "      <td>1</td>\n",
              "      <td>The New Yorker NYHM014 Refrigerator Magnet, 2 ...</td>\n",
              "    </tr>\n",
              "    <tr>\n",
              "      <th>5</th>\n",
              "      <td>5</td>\n",
              "      <td>Men'S Full Sleeve Raglan T-Shirts Denim T-Shir...</td>\n",
              "    </tr>\n",
              "    <tr>\n",
              "      <th>6</th>\n",
              "      <td>6</td>\n",
              "      <td>Glance Women's Wallet (Black) (LW-21)</td>\n",
              "    </tr>\n",
              "    <tr>\n",
              "      <th>7</th>\n",
              "      <td>7</td>\n",
              "      <td>Wild Animals Hungry Brain Educational Flash Ca...</td>\n",
              "    </tr>\n",
              "  </tbody>\n",
              "</table>\n",
              "</div>"
            ],
            "text/plain": [
              "   BROWSE_NODE_ID                                              TITLE\n",
              "0               0         Pete The Cat Bedtime Blues Doll, 14.5 Inch\n",
              "1               1  The New Yorker NYHM014 Refrigerator Magnet, 2 ...\n",
              "5               5  Men'S Full Sleeve Raglan T-Shirts Denim T-Shir...\n",
              "6               6              Glance Women's Wallet (Black) (LW-21)\n",
              "7               7  Wild Animals Hungry Brain Educational Flash Ca..."
            ]
          },
          "metadata": {
            "tags": []
          },
          "execution_count": 19
        }
      ]
    },
    {
      "cell_type": "code",
      "metadata": {
        "colab": {
          "base_uri": "https://localhost:8080/"
        },
        "id": "7de7796e",
        "outputId": "00c9f21e-7f2b-417a-d943-929267132640"
      },
      "source": [
        "df.shape"
      ],
      "id": "7de7796e",
      "execution_count": 20,
      "outputs": [
        {
          "output_type": "execute_result",
          "data": {
            "text/plain": [
              "(30000, 2)"
            ]
          },
          "metadata": {
            "tags": []
          },
          "execution_count": 20
        }
      ]
    },
    {
      "cell_type": "code",
      "metadata": {
        "id": "97af3c37"
      },
      "source": [
        "df['TITLE'] = [entry.lower() for entry in df['TITLE']]"
      ],
      "id": "97af3c37",
      "execution_count": 21,
      "outputs": []
    },
    {
      "cell_type": "code",
      "metadata": {
        "colab": {
          "base_uri": "https://localhost:8080/",
          "height": 204
        },
        "id": "689f8b1d",
        "outputId": "afc50fc1-ecc8-44a3-a802-4e23490b2696"
      },
      "source": [
        "df.head()"
      ],
      "id": "689f8b1d",
      "execution_count": 22,
      "outputs": [
        {
          "output_type": "execute_result",
          "data": {
            "text/html": [
              "<div>\n",
              "<style scoped>\n",
              "    .dataframe tbody tr th:only-of-type {\n",
              "        vertical-align: middle;\n",
              "    }\n",
              "\n",
              "    .dataframe tbody tr th {\n",
              "        vertical-align: top;\n",
              "    }\n",
              "\n",
              "    .dataframe thead th {\n",
              "        text-align: right;\n",
              "    }\n",
              "</style>\n",
              "<table border=\"1\" class=\"dataframe\">\n",
              "  <thead>\n",
              "    <tr style=\"text-align: right;\">\n",
              "      <th></th>\n",
              "      <th>BROWSE_NODE_ID</th>\n",
              "      <th>TITLE</th>\n",
              "    </tr>\n",
              "  </thead>\n",
              "  <tbody>\n",
              "    <tr>\n",
              "      <th>0</th>\n",
              "      <td>0</td>\n",
              "      <td>pete the cat bedtime blues doll, 14.5 inch</td>\n",
              "    </tr>\n",
              "    <tr>\n",
              "      <th>1</th>\n",
              "      <td>1</td>\n",
              "      <td>the new yorker nyhm014 refrigerator magnet, 2 ...</td>\n",
              "    </tr>\n",
              "    <tr>\n",
              "      <th>5</th>\n",
              "      <td>5</td>\n",
              "      <td>men's full sleeve raglan t-shirts denim t-shir...</td>\n",
              "    </tr>\n",
              "    <tr>\n",
              "      <th>6</th>\n",
              "      <td>6</td>\n",
              "      <td>glance women's wallet (black) (lw-21)</td>\n",
              "    </tr>\n",
              "    <tr>\n",
              "      <th>7</th>\n",
              "      <td>7</td>\n",
              "      <td>wild animals hungry brain educational flash ca...</td>\n",
              "    </tr>\n",
              "  </tbody>\n",
              "</table>\n",
              "</div>"
            ],
            "text/plain": [
              "   BROWSE_NODE_ID                                              TITLE\n",
              "0               0         pete the cat bedtime blues doll, 14.5 inch\n",
              "1               1  the new yorker nyhm014 refrigerator magnet, 2 ...\n",
              "5               5  men's full sleeve raglan t-shirts denim t-shir...\n",
              "6               6              glance women's wallet (black) (lw-21)\n",
              "7               7  wild animals hungry brain educational flash ca..."
            ]
          },
          "metadata": {
            "tags": []
          },
          "execution_count": 22
        }
      ]
    },
    {
      "cell_type": "markdown",
      "metadata": {
        "id": "dLAZ2GGb6Grx"
      },
      "source": [
        "Splitting the data into train and test dataframes"
      ],
      "id": "dLAZ2GGb6Grx"
    },
    {
      "cell_type": "code",
      "metadata": {
        "id": "c1b7ea9a"
      },
      "source": [
        "Train_X, Test_X, Train_Y, Test_Y = model_selection.train_test_split(df['TITLE'],\n",
        "                                                                    df['BROWSE_NODE_ID'],test_size=0.2)\n"
      ],
      "id": "c1b7ea9a",
      "execution_count": 23,
      "outputs": []
    },
    {
      "cell_type": "code",
      "metadata": {
        "id": "c0508e5b"
      },
      "source": [
        "Train_Y=Train_Y.to_numpy()"
      ],
      "id": "c0508e5b",
      "execution_count": 24,
      "outputs": []
    },
    {
      "cell_type": "code",
      "metadata": {
        "id": "c6fb8671"
      },
      "source": [
        "Test_Y=Test_Y.to_numpy()"
      ],
      "id": "c6fb8671",
      "execution_count": 25,
      "outputs": []
    },
    {
      "cell_type": "code",
      "metadata": {
        "id": "08cf28c4"
      },
      "source": [
        "Train_X=Train_X.to_numpy()"
      ],
      "id": "08cf28c4",
      "execution_count": 26,
      "outputs": []
    },
    {
      "cell_type": "code",
      "metadata": {
        "id": "d111dd63"
      },
      "source": [
        "Test_X=Test_X.to_numpy()"
      ],
      "id": "d111dd63",
      "execution_count": 27,
      "outputs": []
    },
    {
      "cell_type": "markdown",
      "metadata": {
        "id": "N4nMhQLY6W0u"
      },
      "source": [
        "Tokenizing the textual data using tfidf vectorizer"
      ],
      "id": "N4nMhQLY6W0u"
    },
    {
      "cell_type": "code",
      "metadata": {
        "id": "520f6c82"
      },
      "source": [
        "Tfidf_vect = TfidfVectorizer()\n",
        "Tfidf_vect.fit(Train_X)\n",
        "Train_X_Tfidf = Tfidf_vect.transform(Train_X)\n",
        "Test_X_Tfidf = Tfidf_vect.transform(Test_X)"
      ],
      "id": "520f6c82",
      "execution_count": 28,
      "outputs": []
    },
    {
      "cell_type": "markdown",
      "metadata": {
        "id": "f6bGPb9q7lLh"
      },
      "source": [
        "Naive Bayes Classifier"
      ],
      "id": "f6bGPb9q7lLh"
    },
    {
      "cell_type": "code",
      "metadata": {
        "id": "a6535cd3",
        "colab": {
          "base_uri": "https://localhost:8080/"
        },
        "outputId": "c594c113-7182-4f89-fea8-b8380db50e2c"
      },
      "source": [
        "# fit the training dataset on the NB classifier\n",
        "Naive = naive_bayes.MultinomialNB()\n",
        "Naive.fit(Train_X_Tfidf,Train_Y)\n",
        "# predict the labels on validation dataset\n",
        "predictions_NB = Naive.predict(Test_X_Tfidf)\n",
        "# Use accuracy_score function to get the accuracy\n",
        "print(\"Naive Bayes Accuracy Score -> \",accuracy_score(predictions_NB, Test_Y)*100)"
      ],
      "id": "a6535cd3",
      "execution_count": 29,
      "outputs": [
        {
          "output_type": "stream",
          "text": [
            "Naive Bayes Accuracy Score ->  20.166666666666664\n"
          ],
          "name": "stdout"
        }
      ]
    },
    {
      "cell_type": "markdown",
      "metadata": {
        "id": "zeC0jBC17sYv"
      },
      "source": [
        "Support Vector Machine Classifier (Linear SVM)"
      ],
      "id": "zeC0jBC17sYv"
    },
    {
      "cell_type": "code",
      "metadata": {
        "id": "27ae0cbe",
        "colab": {
          "base_uri": "https://localhost:8080/"
        },
        "outputId": "4be1a0ca-b268-41f6-fb8e-82e549174b52"
      },
      "source": [
        "# Classifier - Algorithm - SVM\n",
        "# fit the training dataset on the classifier\n",
        "SVM = svm.SVC(C=1.0, kernel='linear', degree=3, gamma='auto')\n",
        "SVM.fit(Train_X_Tfidf,Train_Y)\n",
        "# predict the labels on validation dataset\n",
        "predictions_SVM = SVM.predict(Test_X_Tfidf)\n",
        "# Use accuracy_score function to get the accuracy\n",
        "print(\"SVM Accuracy Score -> \",accuracy_score(predictions_SVM, Test_Y)*100)"
      ],
      "id": "27ae0cbe",
      "execution_count": 23,
      "outputs": [
        {
          "output_type": "stream",
          "text": [
            "SVM Accuracy Score ->  55.08333333333333\n"
          ],
          "name": "stdout"
        }
      ]
    },
    {
      "cell_type": "markdown",
      "metadata": {
        "id": "3Y1qxVym-oaG"
      },
      "source": [
        "Predicting the Browse_Node_Id of the test dataset provided by Amazon"
      ],
      "id": "3Y1qxVym-oaG"
    },
    {
      "cell_type": "code",
      "metadata": {
        "id": "e1b4dffd",
        "colab": {
          "base_uri": "https://localhost:8080/",
          "height": 306
        },
        "outputId": "b3ca13e6-10a4-403b-9cb0-a4608b4a6212"
      },
      "source": [
        "test.head()"
      ],
      "id": "e1b4dffd",
      "execution_count": 30,
      "outputs": [
        {
          "output_type": "execute_result",
          "data": {
            "text/html": [
              "<div>\n",
              "<style scoped>\n",
              "    .dataframe tbody tr th:only-of-type {\n",
              "        vertical-align: middle;\n",
              "    }\n",
              "\n",
              "    .dataframe tbody tr th {\n",
              "        vertical-align: top;\n",
              "    }\n",
              "\n",
              "    .dataframe thead th {\n",
              "        text-align: right;\n",
              "    }\n",
              "</style>\n",
              "<table border=\"1\" class=\"dataframe\">\n",
              "  <thead>\n",
              "    <tr style=\"text-align: right;\">\n",
              "      <th></th>\n",
              "      <th>PRODUCT_ID</th>\n",
              "      <th>TITLE</th>\n",
              "      <th>DESCRIPTION</th>\n",
              "      <th>BULLET_POINTS</th>\n",
              "      <th>BRAND</th>\n",
              "    </tr>\n",
              "  </thead>\n",
              "  <tbody>\n",
              "    <tr>\n",
              "      <th>0</th>\n",
              "      <td>1</td>\n",
              "      <td>Command 3M Small Kitchen Hooks, White, Decorat...</td>\n",
              "      <td>Sale Unit: PACK</td>\n",
              "      <td>[INCLUDES - 9 hooks and 12 small indoor strips...</td>\n",
              "      <td>Command</td>\n",
              "    </tr>\n",
              "    <tr>\n",
              "      <th>1</th>\n",
              "      <td>2</td>\n",
              "      <td>O'Neal Jump Hardware JAG Unisex-Adult Glove (B...</td>\n",
              "      <td>Synthetic leather palm with double-layer thumb...</td>\n",
              "      <td>[Silicone printing for a better grip. Long las...</td>\n",
              "      <td>O'Neal</td>\n",
              "    </tr>\n",
              "    <tr>\n",
              "      <th>2</th>\n",
              "      <td>3</td>\n",
              "      <td>NFL Detroit Lions Portable Party Fridge, 15.8 ...</td>\n",
              "      <td>Boelter Brands lets you celebrate your favorit...</td>\n",
              "      <td>[Runs on 12 Volt DC Power or 110 Volt AC Power...</td>\n",
              "      <td>Boelter Brands</td>\n",
              "    </tr>\n",
              "    <tr>\n",
              "      <th>3</th>\n",
              "      <td>4</td>\n",
              "      <td>Panasonic Single Line KX-TS880MX Corded Phone ...</td>\n",
              "      <td>Features: 50 Station Phonebook Corded Phone Al...</td>\n",
              "      <td>Panasonic Landline Phones doesn't come with a ...</td>\n",
              "      <td>Panasonic</td>\n",
              "    </tr>\n",
              "    <tr>\n",
              "      <th>4</th>\n",
              "      <td>5</td>\n",
              "      <td>Zero Baby Girl's 100% Cotton Innerwear Bloomer...</td>\n",
              "      <td>Zero Baby Girl Panties Set. 100% Cotton, Breat...</td>\n",
              "      <td>[Zero Baby Girl Panties, Pack of 6, 100% Cotto...</td>\n",
              "      <td>Zero</td>\n",
              "    </tr>\n",
              "  </tbody>\n",
              "</table>\n",
              "</div>"
            ],
            "text/plain": [
              "   PRODUCT_ID  ...           BRAND\n",
              "0           1  ...         Command\n",
              "1           2  ...          O'Neal\n",
              "2           3  ...  Boelter Brands\n",
              "3           4  ...       Panasonic\n",
              "4           5  ...            Zero\n",
              "\n",
              "[5 rows x 5 columns]"
            ]
          },
          "metadata": {
            "tags": []
          },
          "execution_count": 30
        }
      ]
    },
    {
      "cell_type": "code",
      "metadata": {
        "id": "ffd9f858"
      },
      "source": [
        "final_test = test[['PRODUCT_ID','TITLE']].copy()"
      ],
      "id": "ffd9f858",
      "execution_count": 31,
      "outputs": []
    },
    {
      "cell_type": "code",
      "metadata": {
        "id": "c98e392a",
        "colab": {
          "base_uri": "https://localhost:8080/",
          "height": 204
        },
        "outputId": "7823f7fd-3e4e-451c-c1e7-6070fa16b3f5"
      },
      "source": [
        "final_test.head()"
      ],
      "id": "c98e392a",
      "execution_count": 32,
      "outputs": [
        {
          "output_type": "execute_result",
          "data": {
            "text/html": [
              "<div>\n",
              "<style scoped>\n",
              "    .dataframe tbody tr th:only-of-type {\n",
              "        vertical-align: middle;\n",
              "    }\n",
              "\n",
              "    .dataframe tbody tr th {\n",
              "        vertical-align: top;\n",
              "    }\n",
              "\n",
              "    .dataframe thead th {\n",
              "        text-align: right;\n",
              "    }\n",
              "</style>\n",
              "<table border=\"1\" class=\"dataframe\">\n",
              "  <thead>\n",
              "    <tr style=\"text-align: right;\">\n",
              "      <th></th>\n",
              "      <th>PRODUCT_ID</th>\n",
              "      <th>TITLE</th>\n",
              "    </tr>\n",
              "  </thead>\n",
              "  <tbody>\n",
              "    <tr>\n",
              "      <th>0</th>\n",
              "      <td>1</td>\n",
              "      <td>Command 3M Small Kitchen Hooks, White, Decorat...</td>\n",
              "    </tr>\n",
              "    <tr>\n",
              "      <th>1</th>\n",
              "      <td>2</td>\n",
              "      <td>O'Neal Jump Hardware JAG Unisex-Adult Glove (B...</td>\n",
              "    </tr>\n",
              "    <tr>\n",
              "      <th>2</th>\n",
              "      <td>3</td>\n",
              "      <td>NFL Detroit Lions Portable Party Fridge, 15.8 ...</td>\n",
              "    </tr>\n",
              "    <tr>\n",
              "      <th>3</th>\n",
              "      <td>4</td>\n",
              "      <td>Panasonic Single Line KX-TS880MX Corded Phone ...</td>\n",
              "    </tr>\n",
              "    <tr>\n",
              "      <th>4</th>\n",
              "      <td>5</td>\n",
              "      <td>Zero Baby Girl's 100% Cotton Innerwear Bloomer...</td>\n",
              "    </tr>\n",
              "  </tbody>\n",
              "</table>\n",
              "</div>"
            ],
            "text/plain": [
              "   PRODUCT_ID                                              TITLE\n",
              "0           1  Command 3M Small Kitchen Hooks, White, Decorat...\n",
              "1           2  O'Neal Jump Hardware JAG Unisex-Adult Glove (B...\n",
              "2           3  NFL Detroit Lions Portable Party Fridge, 15.8 ...\n",
              "3           4  Panasonic Single Line KX-TS880MX Corded Phone ...\n",
              "4           5  Zero Baby Girl's 100% Cotton Innerwear Bloomer..."
            ]
          },
          "metadata": {
            "tags": []
          },
          "execution_count": 32
        }
      ]
    },
    {
      "cell_type": "code",
      "metadata": {
        "id": "43c9c588"
      },
      "source": [
        "final_test.fillna(value= 'the', inplace = True)"
      ],
      "id": "43c9c588",
      "execution_count": 33,
      "outputs": []
    },
    {
      "cell_type": "code",
      "metadata": {
        "id": "6ad57620",
        "colab": {
          "base_uri": "https://localhost:8080/"
        },
        "outputId": "a22d4cd8-13c7-4723-df48-ef972d49d605"
      },
      "source": [
        "final_test.info()"
      ],
      "id": "6ad57620",
      "execution_count": 34,
      "outputs": [
        {
          "output_type": "stream",
          "text": [
            "<class 'pandas.core.frame.DataFrame'>\n",
            "Int64Index: 97793 entries, 0 to 110774\n",
            "Data columns (total 2 columns):\n",
            " #   Column      Non-Null Count  Dtype \n",
            "---  ------      --------------  ----- \n",
            " 0   PRODUCT_ID  97793 non-null  int64 \n",
            " 1   TITLE       97793 non-null  object\n",
            "dtypes: int64(1), object(1)\n",
            "memory usage: 2.2+ MB\n"
          ],
          "name": "stdout"
        }
      ]
    },
    {
      "cell_type": "code",
      "metadata": {
        "id": "e0e36a94"
      },
      "source": [
        "final_test['TITLE'] = final_test['TITLE'].str.lower()"
      ],
      "id": "e0e36a94",
      "execution_count": 35,
      "outputs": []
    },
    {
      "cell_type": "code",
      "metadata": {
        "id": "07697982"
      },
      "source": [
        "final_test_X = final_test['TITLE']"
      ],
      "id": "07697982",
      "execution_count": 36,
      "outputs": []
    },
    {
      "cell_type": "code",
      "metadata": {
        "id": "f3222b5a",
        "colab": {
          "base_uri": "https://localhost:8080/"
        },
        "outputId": "d87b4013-fb5f-4dfa-c166-d14bda92cd26"
      },
      "source": [
        "final_test_X"
      ],
      "id": "f3222b5a",
      "execution_count": 32,
      "outputs": [
        {
          "output_type": "execute_result",
          "data": {
            "text/plain": [
              "0         command 3m small kitchen hooks, white, decorat...\n",
              "1         o'neal jump hardware jag unisex-adult glove (b...\n",
              "2         nfl detroit lions portable party fridge, 15.8 ...\n",
              "3         panasonic single line kx-ts880mx corded phone ...\n",
              "4         zero baby girl's 100% cotton innerwear bloomer...\n",
              "                                ...                        \n",
              "110770    aahna e mall oneblade hybrid trimmer shaver an...\n",
              "110771    grin health n99 anti pollution reusable washab...\n",
              "110772    asian army pink ultra reusable respirator clot...\n",
              "110773    im safe 3 ply non-woven disposable surgical fa...\n",
              "110774    artifie 100% cotton unisex reusable breathable...\n",
              "Name: TITLE, Length: 97793, dtype: object"
            ]
          },
          "metadata": {
            "tags": []
          },
          "execution_count": 32
        }
      ]
    },
    {
      "cell_type": "code",
      "metadata": {
        "id": "a425cebc"
      },
      "source": [
        "Final_Test_X_Tfidf = Tfidf_vect.transform(final_test_X)"
      ],
      "id": "a425cebc",
      "execution_count": 37,
      "outputs": []
    },
    {
      "cell_type": "markdown",
      "metadata": {
        "id": "8_hDh1aB8QKB"
      },
      "source": [
        "Using Naive Bayes rather than SVM cause I do not have enough processing power"
      ],
      "id": "8_hDh1aB8QKB"
    },
    {
      "cell_type": "code",
      "metadata": {
        "id": "b48c23c0"
      },
      "source": [
        "final_predictions_NB = Naive.predict(Final_Test_X_Tfidf)"
      ],
      "id": "b48c23c0",
      "execution_count": 38,
      "outputs": []
    },
    {
      "cell_type": "code",
      "metadata": {
        "id": "c3e2e4a6",
        "colab": {
          "base_uri": "https://localhost:8080/"
        },
        "outputId": "c339005c-0304-4bf2-fff4-ef2dd966e98f"
      },
      "source": [
        "final_predictions_NB"
      ],
      "id": "c3e2e4a6",
      "execution_count": 39,
      "outputs": [
        {
          "output_type": "execute_result",
          "data": {
            "text/plain": [
              "array([1045, 1045, 1045, ..., 1045, 1045,    5])"
            ]
          },
          "metadata": {
            "tags": []
          },
          "execution_count": 39
        }
      ]
    },
    {
      "cell_type": "code",
      "metadata": {
        "id": "b419339d"
      },
      "source": [
        "product_id = final_test[['PRODUCT_ID']].to_numpy()"
      ],
      "id": "b419339d",
      "execution_count": 40,
      "outputs": []
    },
    {
      "cell_type": "code",
      "metadata": {
        "id": "d14262d6",
        "colab": {
          "base_uri": "https://localhost:8080/"
        },
        "outputId": "1bb2c14d-fee8-436c-e120-25ee9d43f101"
      },
      "source": [
        "product_id"
      ],
      "id": "d14262d6",
      "execution_count": 41,
      "outputs": [
        {
          "output_type": "execute_result",
          "data": {
            "text/plain": [
              "array([[     1],\n",
              "       [     2],\n",
              "       [     3],\n",
              "       ...,\n",
              "       [110773],\n",
              "       [110774],\n",
              "       [110775]])"
            ]
          },
          "metadata": {
            "tags": []
          },
          "execution_count": 41
        }
      ]
    },
    {
      "cell_type": "code",
      "metadata": {
        "id": "5b55a043"
      },
      "source": [
        "df1 = pd.DataFrame(data = product_id,\n",
        "                  columns = ['PRODUCT_ID'])"
      ],
      "id": "5b55a043",
      "execution_count": 42,
      "outputs": []
    },
    {
      "cell_type": "code",
      "metadata": {
        "id": "12bb2a51",
        "colab": {
          "base_uri": "https://localhost:8080/",
          "height": 419
        },
        "outputId": "3478376a-8737-44f6-9b0b-47ed1f8c380f"
      },
      "source": [
        "df1"
      ],
      "id": "12bb2a51",
      "execution_count": 43,
      "outputs": [
        {
          "output_type": "execute_result",
          "data": {
            "text/html": [
              "<div>\n",
              "<style scoped>\n",
              "    .dataframe tbody tr th:only-of-type {\n",
              "        vertical-align: middle;\n",
              "    }\n",
              "\n",
              "    .dataframe tbody tr th {\n",
              "        vertical-align: top;\n",
              "    }\n",
              "\n",
              "    .dataframe thead th {\n",
              "        text-align: right;\n",
              "    }\n",
              "</style>\n",
              "<table border=\"1\" class=\"dataframe\">\n",
              "  <thead>\n",
              "    <tr style=\"text-align: right;\">\n",
              "      <th></th>\n",
              "      <th>PRODUCT_ID</th>\n",
              "    </tr>\n",
              "  </thead>\n",
              "  <tbody>\n",
              "    <tr>\n",
              "      <th>0</th>\n",
              "      <td>1</td>\n",
              "    </tr>\n",
              "    <tr>\n",
              "      <th>1</th>\n",
              "      <td>2</td>\n",
              "    </tr>\n",
              "    <tr>\n",
              "      <th>2</th>\n",
              "      <td>3</td>\n",
              "    </tr>\n",
              "    <tr>\n",
              "      <th>3</th>\n",
              "      <td>4</td>\n",
              "    </tr>\n",
              "    <tr>\n",
              "      <th>4</th>\n",
              "      <td>5</td>\n",
              "    </tr>\n",
              "    <tr>\n",
              "      <th>...</th>\n",
              "      <td>...</td>\n",
              "    </tr>\n",
              "    <tr>\n",
              "      <th>97788</th>\n",
              "      <td>110771</td>\n",
              "    </tr>\n",
              "    <tr>\n",
              "      <th>97789</th>\n",
              "      <td>110772</td>\n",
              "    </tr>\n",
              "    <tr>\n",
              "      <th>97790</th>\n",
              "      <td>110773</td>\n",
              "    </tr>\n",
              "    <tr>\n",
              "      <th>97791</th>\n",
              "      <td>110774</td>\n",
              "    </tr>\n",
              "    <tr>\n",
              "      <th>97792</th>\n",
              "      <td>110775</td>\n",
              "    </tr>\n",
              "  </tbody>\n",
              "</table>\n",
              "<p>97793 rows × 1 columns</p>\n",
              "</div>"
            ],
            "text/plain": [
              "       PRODUCT_ID\n",
              "0               1\n",
              "1               2\n",
              "2               3\n",
              "3               4\n",
              "4               5\n",
              "...           ...\n",
              "97788      110771\n",
              "97789      110772\n",
              "97790      110773\n",
              "97791      110774\n",
              "97792      110775\n",
              "\n",
              "[97793 rows x 1 columns]"
            ]
          },
          "metadata": {
            "tags": []
          },
          "execution_count": 43
        }
      ]
    },
    {
      "cell_type": "code",
      "metadata": {
        "id": "55c108c7"
      },
      "source": [
        "df2 = pd.DataFrame(data = final_predictions_NB,\n",
        "                  columns = ['BROWSE_NODE_ID'])"
      ],
      "id": "55c108c7",
      "execution_count": 44,
      "outputs": []
    },
    {
      "cell_type": "code",
      "metadata": {
        "id": "3209c73a",
        "colab": {
          "base_uri": "https://localhost:8080/",
          "height": 419
        },
        "outputId": "b5f9cd15-f78d-4ffd-c85b-5b9fb4bef774"
      },
      "source": [
        "df2"
      ],
      "id": "3209c73a",
      "execution_count": 45,
      "outputs": [
        {
          "output_type": "execute_result",
          "data": {
            "text/html": [
              "<div>\n",
              "<style scoped>\n",
              "    .dataframe tbody tr th:only-of-type {\n",
              "        vertical-align: middle;\n",
              "    }\n",
              "\n",
              "    .dataframe tbody tr th {\n",
              "        vertical-align: top;\n",
              "    }\n",
              "\n",
              "    .dataframe thead th {\n",
              "        text-align: right;\n",
              "    }\n",
              "</style>\n",
              "<table border=\"1\" class=\"dataframe\">\n",
              "  <thead>\n",
              "    <tr style=\"text-align: right;\">\n",
              "      <th></th>\n",
              "      <th>BROWSE_NODE_ID</th>\n",
              "    </tr>\n",
              "  </thead>\n",
              "  <tbody>\n",
              "    <tr>\n",
              "      <th>0</th>\n",
              "      <td>1045</td>\n",
              "    </tr>\n",
              "    <tr>\n",
              "      <th>1</th>\n",
              "      <td>1045</td>\n",
              "    </tr>\n",
              "    <tr>\n",
              "      <th>2</th>\n",
              "      <td>1045</td>\n",
              "    </tr>\n",
              "    <tr>\n",
              "      <th>3</th>\n",
              "      <td>1045</td>\n",
              "    </tr>\n",
              "    <tr>\n",
              "      <th>4</th>\n",
              "      <td>1045</td>\n",
              "    </tr>\n",
              "    <tr>\n",
              "      <th>...</th>\n",
              "      <td>...</td>\n",
              "    </tr>\n",
              "    <tr>\n",
              "      <th>97788</th>\n",
              "      <td>1045</td>\n",
              "    </tr>\n",
              "    <tr>\n",
              "      <th>97789</th>\n",
              "      <td>1045</td>\n",
              "    </tr>\n",
              "    <tr>\n",
              "      <th>97790</th>\n",
              "      <td>1045</td>\n",
              "    </tr>\n",
              "    <tr>\n",
              "      <th>97791</th>\n",
              "      <td>1045</td>\n",
              "    </tr>\n",
              "    <tr>\n",
              "      <th>97792</th>\n",
              "      <td>5</td>\n",
              "    </tr>\n",
              "  </tbody>\n",
              "</table>\n",
              "<p>97793 rows × 1 columns</p>\n",
              "</div>"
            ],
            "text/plain": [
              "       BROWSE_NODE_ID\n",
              "0                1045\n",
              "1                1045\n",
              "2                1045\n",
              "3                1045\n",
              "4                1045\n",
              "...               ...\n",
              "97788            1045\n",
              "97789            1045\n",
              "97790            1045\n",
              "97791            1045\n",
              "97792               5\n",
              "\n",
              "[97793 rows x 1 columns]"
            ]
          },
          "metadata": {
            "tags": []
          },
          "execution_count": 45
        }
      ]
    },
    {
      "cell_type": "code",
      "metadata": {
        "id": "db750869",
        "colab": {
          "base_uri": "https://localhost:8080/",
          "height": 297
        },
        "outputId": "03f55d03-74e3-408c-efb8-40b29f655239"
      },
      "source": [
        "df2.describe()"
      ],
      "id": "db750869",
      "execution_count": 46,
      "outputs": [
        {
          "output_type": "execute_result",
          "data": {
            "text/html": [
              "<div>\n",
              "<style scoped>\n",
              "    .dataframe tbody tr th:only-of-type {\n",
              "        vertical-align: middle;\n",
              "    }\n",
              "\n",
              "    .dataframe tbody tr th {\n",
              "        vertical-align: top;\n",
              "    }\n",
              "\n",
              "    .dataframe thead th {\n",
              "        text-align: right;\n",
              "    }\n",
              "</style>\n",
              "<table border=\"1\" class=\"dataframe\">\n",
              "  <thead>\n",
              "    <tr style=\"text-align: right;\">\n",
              "      <th></th>\n",
              "      <th>BROWSE_NODE_ID</th>\n",
              "    </tr>\n",
              "  </thead>\n",
              "  <tbody>\n",
              "    <tr>\n",
              "      <th>count</th>\n",
              "      <td>97793.000000</td>\n",
              "    </tr>\n",
              "    <tr>\n",
              "      <th>mean</th>\n",
              "      <td>1000.956398</td>\n",
              "    </tr>\n",
              "    <tr>\n",
              "      <th>std</th>\n",
              "      <td>210.466257</td>\n",
              "    </tr>\n",
              "    <tr>\n",
              "      <th>min</th>\n",
              "      <td>5.000000</td>\n",
              "    </tr>\n",
              "    <tr>\n",
              "      <th>25%</th>\n",
              "      <td>1045.000000</td>\n",
              "    </tr>\n",
              "    <tr>\n",
              "      <th>50%</th>\n",
              "      <td>1045.000000</td>\n",
              "    </tr>\n",
              "    <tr>\n",
              "      <th>75%</th>\n",
              "      <td>1045.000000</td>\n",
              "    </tr>\n",
              "    <tr>\n",
              "      <th>max</th>\n",
              "      <td>4183.000000</td>\n",
              "    </tr>\n",
              "  </tbody>\n",
              "</table>\n",
              "</div>"
            ],
            "text/plain": [
              "       BROWSE_NODE_ID\n",
              "count    97793.000000\n",
              "mean      1000.956398\n",
              "std        210.466257\n",
              "min          5.000000\n",
              "25%       1045.000000\n",
              "50%       1045.000000\n",
              "75%       1045.000000\n",
              "max       4183.000000"
            ]
          },
          "metadata": {
            "tags": []
          },
          "execution_count": 46
        }
      ]
    },
    {
      "cell_type": "code",
      "metadata": {
        "id": "c0bcb0f3",
        "colab": {
          "base_uri": "https://localhost:8080/"
        },
        "outputId": "a9bbdb9a-a5de-4c78-cba2-191085617fc0"
      },
      "source": [
        "train['BROWSE_NODE_ID'].describe()"
      ],
      "id": "c0bcb0f3",
      "execution_count": 47,
      "outputs": [
        {
          "output_type": "execute_result",
          "data": {
            "text/plain": [
              "count    2.110586e+06\n",
              "mean     9.200541e+03\n",
              "std      5.520116e+04\n",
              "min      0.000000e+00\n",
              "25%      7.390000e+02\n",
              "50%      1.072000e+03\n",
              "75%      2.815000e+03\n",
              "max      2.893574e+06\n",
              "Name: BROWSE_NODE_ID, dtype: float64"
            ]
          },
          "metadata": {
            "tags": []
          },
          "execution_count": 47
        }
      ]
    },
    {
      "cell_type": "code",
      "metadata": {
        "id": "4c6bef4e",
        "colab": {
          "base_uri": "https://localhost:8080/"
        },
        "outputId": "d285b828-9621-4c2d-9ccc-91d27e868f44"
      },
      "source": [
        "df1.shape"
      ],
      "id": "4c6bef4e",
      "execution_count": 48,
      "outputs": [
        {
          "output_type": "execute_result",
          "data": {
            "text/plain": [
              "(97793, 1)"
            ]
          },
          "metadata": {
            "tags": []
          },
          "execution_count": 48
        }
      ]
    },
    {
      "cell_type": "code",
      "metadata": {
        "id": "2a286c74",
        "colab": {
          "base_uri": "https://localhost:8080/"
        },
        "outputId": "d5085019-cea3-445c-d349-4bef947fc1d9"
      },
      "source": [
        "df2.shape"
      ],
      "id": "2a286c74",
      "execution_count": 49,
      "outputs": [
        {
          "output_type": "execute_result",
          "data": {
            "text/plain": [
              "(97793, 1)"
            ]
          },
          "metadata": {
            "tags": []
          },
          "execution_count": 49
        }
      ]
    },
    {
      "cell_type": "markdown",
      "metadata": {
        "id": "oYbn9OGg8xnA"
      },
      "source": [
        "Making the dataframe into the specific format for submission"
      ],
      "id": "oYbn9OGg8xnA"
    },
    {
      "cell_type": "code",
      "metadata": {
        "id": "48b4f7f2"
      },
      "source": [
        "DF = df1.join(df2)"
      ],
      "id": "48b4f7f2",
      "execution_count": 50,
      "outputs": []
    },
    {
      "cell_type": "code",
      "metadata": {
        "id": "e8eecbe0"
      },
      "source": [
        "DF.to_csv('Amazon_ML_Submission.csv')"
      ],
      "id": "e8eecbe0",
      "execution_count": 51,
      "outputs": []
    },
    {
      "cell_type": "markdown",
      "metadata": {
        "id": "KanfJbGC_lMT"
      },
      "source": [
        "THE END !!"
      ],
      "id": "KanfJbGC_lMT"
    }
  ]
}